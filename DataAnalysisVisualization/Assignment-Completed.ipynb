{
 "cells": [
  {
   "cell_type": "code",
   "execution_count": 435,
   "metadata": {
    "id": "OBF0Quv3mbGO"
   },
   "outputs": [],
   "source": [
    "# Price Data\n",
    "\n",
    "item_dict = {'almonds': 6,\n",
    " 'antioxidant juice': 9,\n",
    " 'avocado': 1,\n",
    " 'black tea': 4,\n",
    " 'burgers': 4,\n",
    " 'champagne': 3,\n",
    " 'chicken': 4,\n",
    " 'chocolate': 7,\n",
    " 'chutney': 7,\n",
    " 'cookies': 7,\n",
    " 'cooking oil': 7,\n",
    " 'cottage cheese': 9,\n",
    " 'eggs': 9,\n",
    " 'energy bar': 9,\n",
    " 'energy drink': 3,\n",
    " 'extra dark chocolate': 8,\n",
    " 'french fries': 7,\n",
    " 'fresh tuna': 9,\n",
    " 'frozen smoothie': 7,\n",
    " 'frozen vegetables': 2,\n",
    " 'green grapes': 8,\n",
    " 'green tea': 8,\n",
    " 'honey': 9,\n",
    " 'light cream': 5,\n",
    " 'low fat yogurt': 4,\n",
    " 'meatballs': 9,\n",
    " 'milk': 5,\n",
    " 'mineral water': 2,\n",
    " 'oil': 9,\n",
    " 'olive oil': 8,\n",
    " 'pet food': 3,\n",
    " 'protein bar': 1,\n",
    " 'salad': 7,\n",
    " 'salmon': 3,\n",
    " 'shallot': 6,\n",
    " 'shrimp': 2,\n",
    " 'soup': 2,\n",
    " 'spaghetti': 6,\n",
    " 'spinach': 7,\n",
    " 'tomato juice': 8,\n",
    " 'tomatoes': 5,\n",
    " 'turkey': 8,\n",
    " 'vegetables mix': 3,\n",
    " 'whole wheat flour': 5,\n",
    " 'whole wheat pasta': 5,\n",
    " 'whole wheat rice': 4,\n",
    " 'yams': 7}"
   ]
  },
  {
   "cell_type": "code",
   "execution_count": 436,
   "metadata": {
    "id": "_uutgZt4mcgz"
   },
   "outputs": [],
   "source": [
    "# transaction data\n",
    "\n",
    "transaction_data = \\\n",
    "[['shrimp', 'almonds', 'avocado', 'vegetables mix', 'green grapes', 'whole wheat flour', 'yams', 'cottage cheese', 'energy drink', 'tomato juice', 'low fat yogurt', 'green tea', 'honey', 'salad', 'mineral water', 'salmon', 'antioxidant juice', 'frozen smoothie', 'spinach', 'olive oil'],\n",
    "['burgers', 'meatballs', 'eggs'],\n",
    "['chutney'],\n",
    "['turkey', 'avocado'],\n",
    "['mineral water', 'milk', 'energy bar', 'whole wheat rice', 'green tea'],\n",
    "['low fat yogurt'],\n",
    "['whole wheat pasta', 'french fries'],\n",
    "['soup', 'light cream', 'shallot'],\n",
    "['frozen vegetables', 'spaghetti', 'green tea'],\n",
    "['french fries'],\n",
    "['eggs', 'pet food'],\n",
    "['cookies'],\n",
    "['turkey', 'burgers', 'mineral water', 'eggs', 'cooking oil'],\n",
    "['spaghetti', 'champagne', 'cookies'],\n",
    "['mineral water', 'salmon'],\n",
    "['mineral water'],\n",
    "['shrimp', 'chocolate', 'chicken', 'honey', 'oil', 'cooking oil', 'low fat yogurt'],\n",
    "['turkey', 'eggs'],\n",
    "['turkey', 'fresh tuna', 'tomatoes', 'spaghetti', 'mineral water', 'black tea', 'salmon', 'eggs', 'chicken', 'extra dark chocolate'],\n",
    "['meatballs', 'milk', 'honey', 'french fries', 'protein bar']]"
   ]
  },
  {
   "cell_type": "markdown",
   "metadata": {
    "id": "lTmOHxeVmjt0"
   },
   "source": [
    "## Q1. Based on customer demand, items keep changing in the store. Your first task is to create a function that lets the admin add or  remove items from the store directory(Cost dictionary)"
   ]
  },
  {
   "cell_type": "markdown",
   "metadata": {},
   "source": [
    "### 1. Find how many unique items are present in the data?  (Hint: It will correspond to the number of key pairs in the Cost dictionary)"
   ]
  },
  {
   "cell_type": "code",
   "execution_count": 437,
   "metadata": {},
   "outputs": [
    {
     "name": "stdout",
     "output_type": "stream",
     "text": [
      "47\n"
     ]
    }
   ],
   "source": [
    "# 1. Find how many unique items are present in the data?  (Hint: It will correspond to the number of key pairs in the Cost dictionary)\n",
    "\n",
    "items_count = len(item_dict)\n",
    "print(items_count)\n"
   ]
  },
  {
   "cell_type": "markdown",
   "metadata": {},
   "source": [
    "### 2.  Find the total number of transactions?"
   ]
  },
  {
   "cell_type": "code",
   "execution_count": 438,
   "metadata": {},
   "outputs": [
    {
     "name": "stdout",
     "output_type": "stream",
     "text": [
      "20\n"
     ]
    }
   ],
   "source": [
    "# 2. Find the total number of transactions?\n",
    "\n",
    "total_transactions = len(transaction_data)\n",
    "print(total_transactions)\n"
   ]
  },
  {
   "cell_type": "markdown",
   "metadata": {},
   "source": [
    "### 3. Add items, try adding the item “banana” in stores. The cost of this item is \\$ 5. Add the item “banana” to the Cost dictionary"
   ]
  },
  {
   "cell_type": "code",
   "execution_count": 439,
   "metadata": {},
   "outputs": [
    {
     "name": "stdout",
     "output_type": "stream",
     "text": [
      "----- Successfully added the item banana with cost $5 from the stock. Updated data as below ----- \n",
      "\n",
      "{'almonds': 6, 'antioxidant juice': 9, 'avocado': 1, 'black tea': 4, 'burgers': 4, 'champagne': 3, 'chicken': 4, 'chocolate': 7, 'chutney': 7, 'cookies': 7, 'cooking oil': 7, 'cottage cheese': 9, 'eggs': 9, 'energy bar': 9, 'energy drink': 3, 'extra dark chocolate': 8, 'french fries': 7, 'fresh tuna': 9, 'frozen smoothie': 7, 'frozen vegetables': 2, 'green grapes': 8, 'green tea': 8, 'honey': 9, 'light cream': 5, 'low fat yogurt': 4, 'meatballs': 9, 'milk': 5, 'mineral water': 2, 'oil': 9, 'olive oil': 8, 'pet food': 3, 'protein bar': 1, 'salad': 7, 'salmon': 3, 'shallot': 6, 'shrimp': 2, 'soup': 2, 'spaghetti': 6, 'spinach': 7, 'tomato juice': 8, 'tomatoes': 5, 'turkey': 8, 'vegetables mix': 3, 'whole wheat flour': 5, 'whole wheat pasta': 5, 'whole wheat rice': 4, 'yams': 7, 'banana': 5}\n"
     ]
    }
   ],
   "source": [
    "#3. Add items, try adding the item “banana” in stores. The cost of this item is $5. Add the item “banana” to the Cost dictionary.\n",
    "def add_item(item_dict, item_name, item_cost) :\n",
    "    if item_cost <= 0 :\n",
    "        raise Exception('Can\\'t add item with zero or negative cost')\n",
    "    elif item_name == '':\n",
    "        raise Exception('Please provide a valid name for the item')\n",
    "    else :\n",
    "        item_dict[item_name] = item_cost\n",
    "        return item_dict\n",
    "        \n",
    "\n",
    "# Use the function to add item banana with cost $5\n",
    "\n",
    "try :\n",
    "    item_dict = add_item(item_dict,'banana',5)\n",
    "    print('-'*5,'Successfully added the item banana with cost $5 from the stock. Updated data as below','-'*5,'\\n')\n",
    "    print(item_dict)\n",
    "\n",
    "except Exception as e:\n",
    "    print('An error occured - ',str(e))\n",
    "\n"
   ]
  },
  {
   "cell_type": "markdown",
   "metadata": {},
   "source": [
    "### 4. Use a function named add_item( ) to automatically add an item to the Cost dictionary given its name and price."
   ]
  },
  {
   "cell_type": "code",
   "execution_count": 440,
   "metadata": {},
   "outputs": [
    {
     "name": "stdout",
     "output_type": "stream",
     "text": [
      "----- Successfully added the item banana with cost $5 from the stock. Updated data as below ----- \n",
      "\n",
      "{'almonds': 6, 'antioxidant juice': 9, 'avocado': 1, 'black tea': 4, 'burgers': 4, 'champagne': 3, 'chicken': 4, 'chocolate': 7, 'chutney': 7, 'cookies': 7, 'cooking oil': 7, 'cottage cheese': 9, 'eggs': 9, 'energy bar': 9, 'energy drink': 3, 'extra dark chocolate': 8, 'french fries': 7, 'fresh tuna': 9, 'frozen smoothie': 7, 'frozen vegetables': 2, 'green grapes': 8, 'green tea': 8, 'honey': 9, 'light cream': 5, 'low fat yogurt': 4, 'meatballs': 9, 'milk': 5, 'mineral water': 2, 'oil': 9, 'olive oil': 8, 'pet food': 3, 'protein bar': 1, 'salad': 7, 'salmon': 3, 'shallot': 6, 'shrimp': 2, 'soup': 2, 'spaghetti': 6, 'spinach': 7, 'tomato juice': 8, 'tomatoes': 5, 'turkey': 8, 'vegetables mix': 3, 'whole wheat flour': 5, 'whole wheat pasta': 5, 'whole wheat rice': 4, 'yams': 7, 'banana': 5}\n"
     ]
    }
   ],
   "source": [
    "# add_item function defined above make use of it\n",
    "\n",
    "# Use the function to add item banana with cost $5\n",
    "try :\n",
    "    item_dict = add_item(item_dict,'banana',5)\n",
    "    print('-'*5,'Successfully added the item banana with cost $5 from the stock. Updated data as below','-'*5,'\\n')\n",
    "    print(item_dict)\n",
    "\n",
    "except Exception as e:\n",
    "    print('An error occured - ',str(e))\n",
    "  \n",
    "    \n",
    "    "
   ]
  },
  {
   "cell_type": "markdown",
   "metadata": {},
   "source": [
    "### 5. Remove an item: for example: if the customers at Walmart do not seem to be purchasing “banana,” and the store decides to discontinue this item. The function to should be able to remove the item “banana” from the Cost dictionary"
   ]
  },
  {
   "cell_type": "code",
   "execution_count": 441,
   "metadata": {},
   "outputs": [
    {
     "name": "stdout",
     "output_type": "stream",
     "text": [
      "----- successfully removed the item banana from the stock. Updated data as below ----- \n",
      "\n",
      "{'almonds': 6, 'antioxidant juice': 9, 'avocado': 1, 'black tea': 4, 'burgers': 4, 'champagne': 3, 'chicken': 4, 'chocolate': 7, 'chutney': 7, 'cookies': 7, 'cooking oil': 7, 'cottage cheese': 9, 'eggs': 9, 'energy bar': 9, 'energy drink': 3, 'extra dark chocolate': 8, 'french fries': 7, 'fresh tuna': 9, 'frozen smoothie': 7, 'frozen vegetables': 2, 'green grapes': 8, 'green tea': 8, 'honey': 9, 'light cream': 5, 'low fat yogurt': 4, 'meatballs': 9, 'milk': 5, 'mineral water': 2, 'oil': 9, 'olive oil': 8, 'pet food': 3, 'protein bar': 1, 'salad': 7, 'salmon': 3, 'shallot': 6, 'shrimp': 2, 'soup': 2, 'spaghetti': 6, 'spinach': 7, 'tomato juice': 8, 'tomatoes': 5, 'turkey': 8, 'vegetables mix': 3, 'whole wheat flour': 5, 'whole wheat pasta': 5, 'whole wheat rice': 4, 'yams': 7}\n"
     ]
    }
   ],
   "source": [
    "# define remove_item function which will take item_name and item_cost\n",
    "def remove_item(item_dict, item_name) :\n",
    "    if item_name == '':\n",
    "        raise Exception('Please provide a valid name for the item')\n",
    "    elif not (item_name in item_dict) :\n",
    "        raise Exception('The item name is already not available')\n",
    "    else:\n",
    "        del(item_dict[item_name])\n",
    "        return item_dict\n",
    "\n",
    "        \n",
    "# Use the function to add item banana with cost $5\n",
    "try:\n",
    "    item_dict = remove_item(item_dict,'banana')\n",
    "    print('-'*5,'successfully removed the item banana from the stock. Updated data as below','-'*5,'\\n')\n",
    "    print(item_dict)\n",
    "except Exception as e:\n",
    "    print('An error occured - ',str(e)) \n",
    "   \n",
    "    \n"
   ]
  },
  {
   "cell_type": "markdown",
   "metadata": {},
   "source": [
    "<br>\n",
    "<br>\n",
    "<br>\n",
    "<br>\n"
   ]
  },
  {
   "cell_type": "markdown",
   "metadata": {},
   "source": [
    "## Q2. Once a customer has completed shopping, they need to be billed for the total amount of all the items. This can be done automatically by swiping each item’s barcode on a checkout system. Your second task is to build the software underlying the checkout system, which finds the total cost of all the items in a customer’s cart, including taxes:"
   ]
  },
  {
   "cell_type": "markdown",
   "metadata": {},
   "source": [
    "### - Write the code, to find the price of an item from the cost dictionary\n",
    "Find the price of salmon from the cost dictionary"
   ]
  },
  {
   "cell_type": "code",
   "execution_count": 442,
   "metadata": {},
   "outputs": [
    {
     "name": "stdout",
     "output_type": "stream",
     "text": [
      "3\n"
     ]
    }
   ],
   "source": [
    "#Write the code, to find the price of an item from the cost dictionary\n",
    "def find_item_cost(item_dict, item_name) :\n",
    "    if not (item_name in item_dict) :\n",
    "        raise Exception('Element named '+ item_name+ ' not present in the stock')\n",
    "    else :\n",
    "        return item_dict[item_name]\n",
    "    \n",
    "\n",
    "#Make the call to the function to get the cost for salmon\n",
    "try : \n",
    "    item_cost = find_item_cost(item_dict, 'salmon')\n",
    "    print(item_cost)\n",
    "except Exception as e:\n",
    "    print('An error occured - ',str(e))\n",
    "\n"
   ]
  },
  {
   "cell_type": "markdown",
   "metadata": {},
   "source": [
    "### - Write a code that helps the administrator find any particular transaction in the sequence\n",
    "Try finding the ninth transaction from the data"
   ]
  },
  {
   "cell_type": "code",
   "execution_count": 443,
   "metadata": {},
   "outputs": [
    {
     "name": "stdout",
     "output_type": "stream",
     "text": [
      "['frozen vegetables', 'spaghetti', 'green tea']\n"
     ]
    }
   ],
   "source": [
    "#Write a code that helps the administrator find any particular transaction in the sequence¶\n",
    "#Try finding the ninth transaction from the data\n",
    "\n",
    "def find_nth_transaction(transaction_data, tr_no) :\n",
    "        return transaction_data[tr_no-1]\n",
    "\n",
    "\n",
    "#Make the function call to get the 9th trnsaction\n",
    "try: \n",
    "    ninth_tr = find_nth_transaction(transaction_data,9)\n",
    "    print(ninth_tr)\n",
    "except Exception as e:\n",
    "    print('An error occured - ',str(e))\n",
    "\n"
   ]
  },
  {
   "cell_type": "markdown",
   "metadata": {},
   "source": [
    "### - How many items are present in the ninth transaction?"
   ]
  },
  {
   "cell_type": "code",
   "execution_count": 444,
   "metadata": {},
   "outputs": [
    {
     "name": "stdout",
     "output_type": "stream",
     "text": [
      "3\n"
     ]
    }
   ],
   "source": [
    "#How many items are present in the ninth transaction?\n",
    "def count_tr_items(transaction_data, item_index) :\n",
    "    ninth_tr = find_nth_transaction(transaction_data,9)\n",
    "    return len(ninth_tr)\n",
    "\n",
    "\n",
    "#call the function to get the total items in the transaciton\n",
    "try: \n",
    "    item_count = count_tr_items(transaction_data,102)\n",
    "    print(item_count)\n",
    "except Exception as e:\n",
    "    print('An error occured - ',str(e))\n",
    "\n",
    "        "
   ]
  },
  {
   "cell_type": "markdown",
   "metadata": {},
   "source": [
    "### - Find the total cost of the ninth transaction from the array of transactions. Example: Input: [‘avocado’, ‘chutney’, ‘cookies’], Output: 15"
   ]
  },
  {
   "cell_type": "code",
   "execution_count": 445,
   "metadata": {},
   "outputs": [
    {
     "name": "stdout",
     "output_type": "stream",
     "text": [
      "16\n"
     ]
    }
   ],
   "source": [
    "#Find the total cost of the ninth transaction from the array of transactions. Example: Input: [‘avocado’, ‘chutney’, ‘cookies’], Output: 15\n",
    "\n",
    "# define function to get total cost of a transaction\n",
    "def find_tr_total_cost(item_dict, lst_items) :\n",
    "    total = 0\n",
    "    for item in lst_items :\n",
    "        if not (item in item_dict) :\n",
    "            raise Exception('Sorry, item ' + item + ' not present in the stock')\n",
    "        total += item_dict[item]\n",
    "    return total\n",
    "\n",
    "\n",
    "\n",
    "# call the function to get the total cost of the transation\n",
    "try :\n",
    "    transaction = find_nth_transaction(transaction_data,9)\n",
    "    total_cost = find_tr_total_cost(item_dict, transaction)\n",
    "    print(total_cost)\n",
    "except Exception as e:\n",
    "    print('An error occurred - ', str(e))\n",
    "        \n",
    "\n",
    "        "
   ]
  },
  {
   "cell_type": "code",
   "execution_count": 446,
   "metadata": {},
   "outputs": [
    {
     "name": "stdout",
     "output_type": "stream",
     "text": [
      "15\n"
     ]
    }
   ],
   "source": [
    "#Use function defined above for transaction in example\n",
    "\n",
    "\n",
    "# call the function to get the total cost of the transation\n",
    "\n",
    "try :\n",
    "    user_input = ['avocado', 'chutney', 'cookies']\n",
    "    total_cost = find_tr_total_cost(item_dict, user_input )\n",
    "    print(total_cost)\n",
    "except Exception as e:\n",
    "    print('An error occurred - ', str(e))\n",
    "        \n",
    "\n"
   ]
  },
  {
   "cell_type": "markdown",
   "metadata": {},
   "source": [
    "### - As per government guidelines, a mandatory 5% tax is applied to the total cost of a transaction. Find the final price of the second transaction after applicable taxes have been implemented."
   ]
  },
  {
   "cell_type": "code",
   "execution_count": 447,
   "metadata": {},
   "outputs": [
    {
     "name": "stdout",
     "output_type": "stream",
     "text": [
      "16.8\n"
     ]
    }
   ],
   "source": [
    "#As per government guidelines, a mandatory 5% tax is applied to the total cost of a transaction. Find the final price of the second transaction after applicable taxes have been implemented.\n",
    "\n",
    "# put the gst rate at a single place so that when require it can be changed in once place and applicable all over in our code\n",
    "gst_rate_percentage = 5\n",
    "\n",
    "# define add_gst function so that it computes the gst on the total transaction value\n",
    "def add_gst(total) :\n",
    "    total += total*(gst_rate_percentage/100)\n",
    "    return total\n",
    "\n",
    "\n",
    "# test the above code with sample input of amount 15\n",
    "try:\n",
    "    transaction = find_nth_transaction(transaction_data,9)\n",
    "    amount = find_tr_total_cost(item_dict, transaction)\n",
    "    total = add_gst(amount)\n",
    "    print(total)\n",
    "except Exception as e:\n",
    "    print('An error occurred - ', str(e))\n",
    "    \n",
    "\n",
    "    \n",
    "    "
   ]
  },
  {
   "cell_type": "markdown",
   "metadata": {},
   "source": [
    "### - Create a function named find_total( ) to find the final price of any transaction after applicable taxes have been implemented."
   ]
  },
  {
   "cell_type": "code",
   "execution_count": 448,
   "metadata": {},
   "outputs": [
    {
     "name": "stdout",
     "output_type": "stream",
     "text": [
      "16.8\n"
     ]
    }
   ],
   "source": [
    "#Create a function named find_total( ) to find the final price of any transaction after applicable taxes have been implemented.\n",
    "\n",
    "#define find_total function that will sum the price of all items and \n",
    "#then will dd applicble taxes. Reuse the functions that we defines above \n",
    "def find_total(item_dict, lst_items) : \n",
    "    if len(lst_items) == 0 :\n",
    "        raise Exception('No elements in the transaction')\n",
    "    amount = find_tr_total_cost(item_dict, lst_items)\n",
    "    total = add_gst(amount)\n",
    "    return total\n",
    "\n",
    "\n",
    "# call the code above \n",
    "try:\n",
    "    transaction = find_nth_transaction(transaction_data,9)\n",
    "    total = find_total(item_dict, transaction)\n",
    "    print(total)\n",
    "except Exception as e:\n",
    "    print('An error occurred - ', str(e))\n",
    "    \n",
    "\n",
    "    "
   ]
  },
  {
   "cell_type": "markdown",
   "metadata": {},
   "source": [
    "## Q3. There is always a flow of items in and out of stores, which need to be tracked so that the store can place an order in case an item is running out of stock. Your third task is to build an inventory management system that will count the total number of items purchased from the transaction data. This inventory management system will go through each of the transactions one by one and increment the value for an item if it is found in a transaction."
   ]
  },
  {
   "cell_type": "markdown",
   "metadata": {},
   "source": [
    "### - What is the data structure that can be used to count the frequency of items purchased (from the transaction data)?"
   ]
  },
  {
   "cell_type": "code",
   "execution_count": 449,
   "metadata": {},
   "outputs": [],
   "source": [
    "# Answer to above question - \n",
    "#    we can use dictionary \n",
    "#    where the key is item and the value is item purchased count\n",
    "#    every time there is a transaction check map to increment the purchased count value\n",
    "#    add the value one if the key doesn't exist in the dictionary already for the item in the transaction\n",
    "\n",
    "\n",
    "\n"
   ]
  },
  {
   "cell_type": "markdown",
   "metadata": {},
   "source": [
    "\n",
    "### - Create a frequency counter to count the number of items:"
   ]
  },
  {
   "cell_type": "code",
   "execution_count": 450,
   "metadata": {},
   "outputs": [
    {
     "name": "stdout",
     "output_type": "stream",
     "text": [
      "----- frequency coutner output is  ----- \n",
      "\n",
      "{'shrimp': 2, 'almonds': 1, 'avocado': 2, 'vegetables mix': 1, 'green grapes': 1, 'whole wheat flour': 1, 'yams': 1, 'cottage cheese': 1, 'energy drink': 1, 'tomato juice': 1, 'low fat yogurt': 3, 'green tea': 3, 'honey': 3, 'salad': 1, 'mineral water': 6, 'salmon': 3, 'antioxidant juice': 1, 'frozen smoothie': 1, 'spinach': 1, 'olive oil': 1, 'burgers': 2, 'meatballs': 2, 'eggs': 5, 'chutney': 1, 'turkey': 4, 'milk': 2, 'energy bar': 1, 'whole wheat rice': 1, 'whole wheat pasta': 1, 'french fries': 3, 'soup': 1, 'light cream': 1, 'shallot': 1, 'frozen vegetables': 1, 'spaghetti': 3, 'pet food': 1, 'cookies': 2, 'cooking oil': 2, 'champagne': 1, 'chocolate': 1, 'chicken': 2, 'oil': 1, 'fresh tuna': 1, 'tomatoes': 1, 'black tea': 1, 'extra dark chocolate': 1, 'protein bar': 1}\n"
     ]
    }
   ],
   "source": [
    "#define the frequency counter function\n",
    "def frequency_counter(transaction_data):\n",
    "    frequency_dict = {}  # creating the empty dictionary\n",
    "    for transaction in transaction_data: # looping over each transaction\n",
    "        for item in transaction: # looping over each item present in the transaction\n",
    "            if item in frequency_dict:\n",
    "                frequency_dict[item] +=   1 # increment the frequency by 1 if the item is found in the dictionary\n",
    "            else:\n",
    "                frequency_dict[item] = 1 # create a new key with the item name if the item is found for the first time\n",
    "\n",
    "    return frequency_dict\n",
    "\n",
    "\n",
    "#test the above function for given use case\n",
    "try :\n",
    "    frequency_dict = frequency_counter(transaction_data)\n",
    "    print('-'*5,'frequency coutner output is ','-'*5, '\\n')\n",
    "    print(frequency_dict)\n",
    "except Exception as e:\n",
    "    print('An error occurred - ', str(e))\n",
    "           \n",
    "            \n"
   ]
  },
  {
   "cell_type": "markdown",
   "metadata": {},
   "source": [
    "### - A new transaction has just been made. This transaction includes “honey,” “pet food,” and “shrimp.” Update the frequency counter to reflect this new transaction."
   ]
  },
  {
   "cell_type": "code",
   "execution_count": 451,
   "metadata": {},
   "outputs": [
    {
     "name": "stdout",
     "output_type": "stream",
     "text": [
      "----- post counter update for transaction  ['honey', 'pet food', 'shrimp']  updated counter is  ----- \n",
      "\n",
      "{'shrimp': 3, 'almonds': 1, 'avocado': 2, 'vegetables mix': 1, 'green grapes': 1, 'whole wheat flour': 1, 'yams': 1, 'cottage cheese': 1, 'energy drink': 1, 'tomato juice': 1, 'low fat yogurt': 3, 'green tea': 3, 'honey': 4, 'salad': 1, 'mineral water': 6, 'salmon': 3, 'antioxidant juice': 1, 'frozen smoothie': 1, 'spinach': 1, 'olive oil': 1, 'burgers': 2, 'meatballs': 2, 'eggs': 5, 'chutney': 1, 'turkey': 4, 'milk': 2, 'energy bar': 1, 'whole wheat rice': 1, 'whole wheat pasta': 1, 'french fries': 3, 'soup': 1, 'light cream': 1, 'shallot': 1, 'frozen vegetables': 1, 'spaghetti': 3, 'pet food': 2, 'cookies': 2, 'cooking oil': 2, 'champagne': 1, 'chocolate': 1, 'chicken': 2, 'oil': 1, 'fresh tuna': 1, 'tomatoes': 1, 'black tea': 1, 'extra dark chocolate': 1, 'protein bar': 1}\n"
     ]
    }
   ],
   "source": [
    "# define the update_counter function that will update frequency for a given new transaciton\n",
    "def update_counter(frequency_dict, transaction) :\n",
    "    for item in transaction: \n",
    "        if item in frequency_dict:\n",
    "            frequency_dict[item] +=  1 \n",
    "        else:\n",
    "            frequency_dict[item] = 1\n",
    "    return frequency_dict\n",
    "\n",
    "            \n",
    "#test the above function for given use case\n",
    "try :\n",
    "    transaction = ['honey','pet food','shrimp']\n",
    "    frequency_dict = update_counter(frequency_dict, transaction)\n",
    "    print('-'*5,'post counter update for transaction ',transaction, ' updated counter is ','-'*5, '\\n')\n",
    "    print(frequency_dict)\n",
    "except Exception as e:\n",
    "    print('An error occurred - ', str(e))\n",
    "           \n",
    "            \n",
    "            "
   ]
  },
  {
   "cell_type": "markdown",
   "metadata": {},
   "source": [
    "### - Create a function named update_counter( ) to automatically update the frequency counter in case any new transaction is made."
   ]
  },
  {
   "cell_type": "code",
   "execution_count": 452,
   "metadata": {},
   "outputs": [
    {
     "name": "stdout",
     "output_type": "stream",
     "text": [
      "----- post counter update for transaction  ['honey', 'pet food', 'shrimp']  updated counter is  ----- \n",
      "\n",
      "{'shrimp': 3, 'almonds': 1, 'avocado': 2, 'vegetables mix': 1, 'green grapes': 1, 'whole wheat flour': 1, 'yams': 1, 'cottage cheese': 1, 'energy drink': 1, 'tomato juice': 1, 'low fat yogurt': 3, 'green tea': 3, 'honey': 4, 'salad': 1, 'mineral water': 6, 'salmon': 3, 'antioxidant juice': 1, 'frozen smoothie': 1, 'spinach': 1, 'olive oil': 1, 'burgers': 2, 'meatballs': 2, 'eggs': 5, 'chutney': 1, 'turkey': 4, 'milk': 2, 'energy bar': 1, 'whole wheat rice': 1, 'whole wheat pasta': 1, 'french fries': 3, 'soup': 1, 'light cream': 1, 'shallot': 1, 'frozen vegetables': 1, 'spaghetti': 3, 'pet food': 2, 'cookies': 2, 'cooking oil': 2, 'champagne': 1, 'chocolate': 1, 'chicken': 2, 'oil': 1, 'fresh tuna': 1, 'tomatoes': 1, 'black tea': 1, 'extra dark chocolate': 1, 'protein bar': 1}\n"
     ]
    }
   ],
   "source": [
    "# use the function update_counter defined in above code block\n",
    "\n",
    "#test the above function for given use case\n",
    "\n",
    "try :\n",
    "    transaction = ['honey','pet food','shrimp']\n",
    "    frequency_dict = frequency_counter(transaction_data) # since we already added up the frequency in block above. Reset the frequnecy counter so that answer is correct\n",
    "    frequency_dict = update_counter(frequency_dict, transaction)\n",
    "    print('-'*5,'post counter update for transaction ',transaction, ' updated counter is ','-'*5, '\\n')\n",
    "    print(frequency_dict)\n",
    "except Exception as e:\n",
    "    print('An error occurred - ', str(e))\n",
    "           "
   ]
  },
  {
   "cell_type": "markdown",
   "metadata": {},
   "source": [
    "## Q4. Walmart is running a discount week for Christmas! The sales manager has decided to keep a 20% discount on the top three selling items. Use the frequency counter that you created in Question 3 to solve this problem:"
   ]
  },
  {
   "cell_type": "markdown",
   "metadata": {},
   "source": [
    "### - What is the top-selling item?"
   ]
  },
  {
   "cell_type": "code",
   "execution_count": 453,
   "metadata": {},
   "outputs": [
    {
     "name": "stdout",
     "output_type": "stream",
     "text": [
      "mineral water\n"
     ]
    }
   ],
   "source": [
    "# define function to get top selling product\n",
    "def top_selling_prod(frequency_dict) :\n",
    "    frequency_dict_sorted = sorted(frequency_dict.items(), key=lambda kv: kv[1], reverse=True)\n",
    "    return frequency_dict_sorted[0][0] # first index zero gets top item with frequency second index 0 gets required item name only\n",
    "\n",
    "# call the function above\n",
    "try :\n",
    "    top_prod = top_selling_prod(frequency_dict)\n",
    "    print(top_prod)\n",
    "except Exception as e:\n",
    "    print('An error occurred - ', str(e))\n",
    "    "
   ]
  },
  {
   "cell_type": "markdown",
   "metadata": {},
   "source": [
    "### - Sort the frequency counter using the sorting algorithms provided in the table below. Additionally, for each of the sorting methods, leverage the time function in Python to see how many milliseconds it takes for an algorithm to sort items."
   ]
  },
  {
   "cell_type": "code",
   "execution_count": 454,
   "metadata": {},
   "outputs": [],
   "source": [
    "# this data structure will keep the time taken by each sorting algorithm\n",
    "algo_time_taken = {}"
   ]
  },
  {
   "cell_type": "markdown",
   "metadata": {},
   "source": [
    "#### - 1. Merge Sort\n",
    "    "
   ]
  },
  {
   "cell_type": "code",
   "execution_count": 455,
   "metadata": {},
   "outputs": [],
   "source": [
    "def mergeSort_dict(L, ascending = True):\n",
    "    result = []  \n",
    "    if len(L) == 1:\n",
    "        return L  \n",
    "    mid = len(L) // 2\n",
    "    \n",
    "    halflist1 = mergeSort_dict(L[:mid])\n",
    "    halflist2 = mergeSort_dict(L[mid:])\n",
    "\n",
    "    x, y = 0, 0\n",
    "    while x < len(halflist1) and y < len(halflist2):\n",
    "        if halflist1[x] > halflist2[y]: # < for descending\n",
    "            result.append(halflist2[y])\n",
    "            y = y + 1\n",
    "        else:\n",
    "            result.append(halflist1[x])\n",
    "            x = x + 1\n",
    "\n",
    "    result = result + halflist1[x:]\n",
    "    result = result + halflist2[y:]\n",
    "    if ascending == True :\n",
    "        return result\n",
    "    else:\n",
    "        result.reverse()\n",
    "        return result"
   ]
  },
  {
   "cell_type": "code",
   "execution_count": 456,
   "metadata": {},
   "outputs": [
    {
     "name": "stdout",
     "output_type": "stream",
     "text": [
      "Time taken by Merge Sort Algorithm in milliseconds  :  0.000174163025803864\n"
     ]
    }
   ],
   "source": [
    "import time\n",
    "\n",
    "list_val = [ val for key, val in frequency_dict.items()]\n",
    "\n",
    "start_time = perf_counter() #mark time before star of algorithm\n",
    "sorted_list = mergeSort_dict(list_val, False) #sort in descending order, reverse\n",
    "end_time = perf_counter() #mark time after start of the algorithm\n",
    "\n",
    "print ('Time taken by Merge Sort Algorithm in milliseconds  : ', end_time-start_time )\n",
    "\n",
    "algo_time_taken['Merge Sort'] = end_time-start_time # store the time taken"
   ]
  },
  {
   "cell_type": "code",
   "execution_count": 457,
   "metadata": {},
   "outputs": [
    {
     "name": "stdout",
     "output_type": "stream",
     "text": [
      "Sorted Frequency Dict : \n",
      " [('mineral water', 6), ('eggs', 5), ('honey', 4)]\n"
     ]
    }
   ],
   "source": [
    "list_of_items = sorted(frequency_dict.keys())#sorting the keys(items) because any item with the same count,\n",
    "                                            #should appear in aphabetical ascending order \n",
    "sorted_frequency_dict_merge = {}\n",
    "for val in sorted_list:\n",
    "    for item in list_of_items:\n",
    "        if frequency_dict[item] == val:\n",
    "            sorted_frequency_dict_merge[item]=val\n",
    "print (\"Sorted Frequency Dict : \\n\",list(sorted_frequency_dict_merge.items())[:3]) # print top 3 selling items"
   ]
  },
  {
   "cell_type": "markdown",
   "metadata": {},
   "source": [
    "#### - Insertion Sort"
   ]
  },
  {
   "cell_type": "code",
   "execution_count": 458,
   "metadata": {},
   "outputs": [],
   "source": [
    "def InsertionSortNumbers(toSort):\n",
    "    for number in range(1, len(toSort)):\n",
    "        current = toSort[number]\n",
    "        i = number - 1\n",
    "        #while i >= 0 and current < toSort[i]: # ascending order\n",
    "        while i >= 0 and current > toSort[i]: #descending order\n",
    "            toSort[i + 1] = toSort[i]\n",
    "            i -= 1\n",
    "\n",
    "        toSort[i + 1] = current"
   ]
  },
  {
   "cell_type": "code",
   "execution_count": 459,
   "metadata": {},
   "outputs": [
    {
     "name": "stdout",
     "output_type": "stream",
     "text": [
      "Time taken by Insertion Sort Algorithm in milliseconds  :  0.00012372899800539017\n"
     ]
    }
   ],
   "source": [
    "list_val = [ val for key, val in frequency_dict.items()]\n",
    "\n",
    "start_time = perf_counter()\n",
    "InsertionSortNumbers(list_val)\n",
    "end_time = perf_counter()\n",
    "print ('Time taken by Insertion Sort Algorithm in milliseconds  : ', end_time-start_time )\n",
    "\n",
    "algo_time_taken['Insertion Sort'] = end_time-start_time  #store the time taken"
   ]
  },
  {
   "cell_type": "code",
   "execution_count": 460,
   "metadata": {},
   "outputs": [
    {
     "name": "stdout",
     "output_type": "stream",
     "text": [
      "Sorted Frequency Dict : \n",
      " [('mineral water', 6), ('eggs', 5), ('honey', 4)]\n"
     ]
    }
   ],
   "source": [
    "list_of_items = sorted(frequency_dict.keys())#sorting the keys(items) because any item with the same count,\n",
    "                                            #should appear in aphabetical ascending order \n",
    "sorted_frequency_dict_insertion = {}\n",
    "for val in list_val:\n",
    "    for item in list_of_items:\n",
    "        if frequency_dict[item] == val:\n",
    "            sorted_frequency_dict_insertion[item]=val\n",
    "print (\"Sorted Frequency Dict : \\n\",list(sorted_frequency_dict_merge.items())[:3]) # print top 3 selling items"
   ]
  },
  {
   "cell_type": "markdown",
   "metadata": {},
   "source": [
    "#### - Selection Sort"
   ]
  },
  {
   "cell_type": "code",
   "execution_count": 461,
   "metadata": {},
   "outputs": [],
   "source": [
    "def descendingSelectionSort(MyList):\n",
    "    for i in range(len(MyList) - 1):\n",
    "        minimum = i\n",
    "        for j in range(len(MyList)-1,i,-1):\n",
    "            if(MyList[j] > MyList[minimum]):\n",
    "                minimum = j\n",
    "        if(minimum != i):\n",
    "            MyList[i], MyList[minimum] = MyList[minimum], MyList[i]\n",
    "    return MyList"
   ]
  },
  {
   "cell_type": "code",
   "execution_count": 462,
   "metadata": {},
   "outputs": [
    {
     "name": "stdout",
     "output_type": "stream",
     "text": [
      "Time taken by Selection Sort Algorithm in milliseconds  :  0.0001635089865885675\n"
     ]
    }
   ],
   "source": [
    "list_val = [ val for key, val in frequency_dict.items()]\n",
    "#print ('Before sorting:',list_val)\n",
    "\n",
    "start_time = perf_counter()\n",
    "sorted_list = descendingSelectionSort(list_val)\n",
    "end_time = perf_counter()\n",
    "print ('Time taken by Selection Sort Algorithm in milliseconds  : ', end_time-start_time)\n",
    "\n",
    "algo_time_taken['Selection Sort'] = end_time-start_time # store the time taken"
   ]
  },
  {
   "cell_type": "code",
   "execution_count": 463,
   "metadata": {},
   "outputs": [
    {
     "name": "stdout",
     "output_type": "stream",
     "text": [
      "Sorted Frequency Dict : \n",
      " [('mineral water', 6), ('eggs', 5), ('honey', 4)]\n"
     ]
    }
   ],
   "source": [
    "\n",
    "list_of_items = sorted(frequency_dict.keys())#sorting the keys(items) because any item with the same count,\n",
    "                                            #should appear in aphabetical ascending order \n",
    "#list_of_items\n",
    "sorted_frequency_dict_insertion = {}\n",
    "for val in sorted_list:\n",
    "    for item in list_of_items:\n",
    "        if frequency_dict[item] == val:\n",
    "            sorted_frequency_dict_insertion[item]=val\n",
    "print (\"Sorted Frequency Dict : \\n\",list(sorted_frequency_dict_merge.items())[:3]) # print top 3 selling items"
   ]
  },
  {
   "cell_type": "markdown",
   "metadata": {},
   "source": [
    "### - Rank the sorting algorithms in order of the time they take to sort items."
   ]
  },
  {
   "cell_type": "code",
   "execution_count": 464,
   "metadata": {},
   "outputs": [
    {
     "name": "stdout",
     "output_type": "stream",
     "text": [
      "Rank  Algorithm Name       Time Taken\n",
      "1     Insertion Sort       0.00012372899800539017\n",
      "2     Selection Sort       0.0001635089865885675\n",
      "3     Merge Sort           0.000174163025803864\n"
     ]
    }
   ],
   "source": [
    "# Rank the sorting algorithm \n",
    "algo_time_taken_sorted = sorted(algo_time_taken.items(), key=lambda kv: kv[1]) # sort based on time taken\n",
    "\n",
    "rank = 1 # index to print rank\n",
    "print(\"{:<5} {:<20} {:<10}\".format('Rank', 'Algorithm Name', 'Time Taken')) # print header\n",
    "for algo_name, time_taken in algo_time_taken_sorted:\n",
    "    print(\"{:<5} {:<20} {:<10}\".format(rank, algo_name, time_taken))\n",
    "    rank += 1"
   ]
  },
  {
   "cell_type": "code",
   "execution_count": 465,
   "metadata": {},
   "outputs": [],
   "source": [
    "# Although the difference for the runtime in this case is very small for the huge data sets in the real time \n",
    "# there will be huge difference in the runtime and below mentioned is the time complexity\n",
    "#the time complexities of the following are : \n",
    "#Merge \t : O (N log N)\n",
    "#Insertion: O (N**2)\n",
    "#Selection: O (N**2)"
   ]
  },
  {
   "cell_type": "markdown",
   "metadata": {},
   "source": [
    "#### --------Completed--------"
   ]
  }
 ],
 "metadata": {
  "colab": {
   "name": "Data.ipynb",
   "provenance": []
  },
  "kernelspec": {
   "display_name": "Python 3",
   "language": "python",
   "name": "python3"
  },
  "language_info": {
   "codemirror_mode": {
    "name": "ipython",
    "version": 3
   },
   "file_extension": ".py",
   "mimetype": "text/x-python",
   "name": "python",
   "nbconvert_exporter": "python",
   "pygments_lexer": "ipython3",
   "version": "3.7.6"
  }
 },
 "nbformat": 4,
 "nbformat_minor": 1
}
